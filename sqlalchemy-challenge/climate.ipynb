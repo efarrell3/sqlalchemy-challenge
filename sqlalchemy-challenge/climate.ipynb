{
 "cells": [
  {
   "cell_type": "code",
   "execution_count": 1,
   "metadata": {},
   "outputs": [],
   "source": [
    "%matplotlib inline\n",
    "from matplotlib import style\n",
    "style.use('fivethirtyeight')\n",
    "import matplotlib.pyplot as plt"
   ]
  },
  {
   "cell_type": "code",
   "execution_count": 2,
   "metadata": {},
   "outputs": [],
   "source": [
    "import numpy as np\n",
    "import pandas as pd\n",
    "from scipy import stats\n",
    "from pprint import pprint"
   ]
  },
  {
   "cell_type": "code",
   "execution_count": 3,
   "metadata": {},
   "outputs": [],
   "source": [
    "import datetime as dt"
   ]
  },
  {
   "cell_type": "markdown",
   "metadata": {},
   "source": [
    "# Reflect Tables into SQLAlchemy ORM"
   ]
  },
  {
   "cell_type": "code",
   "execution_count": 4,
   "metadata": {},
   "outputs": [],
   "source": [
    "# Python SQL toolkit and Object Relational Mapper\n",
    "import sqlalchemy\n",
    "from sqlalchemy.ext.automap import automap_base\n",
    "from sqlalchemy.orm import Session\n",
    "from sqlalchemy import create_engine, func"
   ]
  },
  {
   "cell_type": "code",
   "execution_count": 5,
   "metadata": {},
   "outputs": [],
   "source": [
    "engine = create_engine(\"sqlite:///Resources/hawaii.sqlite\")"
   ]
  },
  {
   "cell_type": "code",
   "execution_count": 6,
   "metadata": {},
   "outputs": [],
   "source": [
    "# reflect an existing database into a new model\n",
    "Base = automap_base()\n",
    "# reflect the tables\n",
    "Base.prepare(engine, reflect=True)"
   ]
  },
  {
   "cell_type": "code",
   "execution_count": 7,
   "metadata": {},
   "outputs": [
    {
     "data": {
      "text/plain": [
       "['measurement', 'station']"
      ]
     },
     "execution_count": 7,
     "metadata": {},
     "output_type": "execute_result"
    }
   ],
   "source": [
    "# We can view all of the classes that automap found\n",
    "Base.classes.keys()"
   ]
  },
  {
   "cell_type": "code",
   "execution_count": 8,
   "metadata": {},
   "outputs": [],
   "source": [
    "# Save references to each table\n",
    "Measurement = Base.classes.measurement\n",
    "Station = Base.classes.station"
   ]
  },
  {
   "cell_type": "code",
   "execution_count": 9,
   "metadata": {},
   "outputs": [],
   "source": [
    "# Create our session (link) from Python to the DB\n",
    "session = Session(engine)"
   ]
  },
  {
   "cell_type": "code",
   "execution_count": 10,
   "metadata": {},
   "outputs": [],
   "source": [
    "from sqlalchemy import inspect\n",
    "inspector = inspect(engine)"
   ]
  },
  {
   "cell_type": "code",
   "execution_count": 11,
   "metadata": {},
   "outputs": [
    {
     "data": {
      "text/plain": [
       "['measurement', 'station']"
      ]
     },
     "execution_count": 11,
     "metadata": {},
     "output_type": "execute_result"
    }
   ],
   "source": [
    "inspector.get_table_names()"
   ]
  },
  {
   "cell_type": "code",
   "execution_count": 12,
   "metadata": {},
   "outputs": [
    {
     "name": "stdout",
     "output_type": "stream",
     "text": [
      "id INTEGER Primary Key\n",
      "station TEXT \n",
      "date TEXT \n",
      "prcp FLOAT \n",
      "tobs FLOAT \n"
     ]
    }
   ],
   "source": [
    "columns = inspector.get_columns('measurement')\n",
    "for column in columns:\n",
    "    primarykeystr = \"\"\n",
    "    if column['primary_key'] == 1:\n",
    "        primarykeystr = 'Primary Key'\n",
    "    print(column[\"name\"], column[\"type\"], primarykeystr)"
   ]
  },
  {
   "cell_type": "code",
   "execution_count": 13,
   "metadata": {},
   "outputs": [
    {
     "name": "stdout",
     "output_type": "stream",
     "text": [
      "id INTEGER Primary Key\n",
      "station TEXT \n",
      "name TEXT \n",
      "latitude FLOAT \n",
      "longitude FLOAT \n",
      "elevation FLOAT \n"
     ]
    }
   ],
   "source": [
    "columns = inspector.get_columns('station')\n",
    "for column in columns:\n",
    "    primarykeystr = \"\"\n",
    "    if column['primary_key'] == 1:\n",
    "        primarykeystr = 'Primary Key'\n",
    "    print(column[\"name\"], column[\"type\"], primarykeystr)"
   ]
  },
  {
   "cell_type": "markdown",
   "metadata": {},
   "source": [
    "# Exploratory Climate Analysis"
   ]
  },
  {
   "cell_type": "code",
   "execution_count": 14,
   "metadata": {},
   "outputs": [
    {
     "data": {
      "text/plain": [
       "[(19550)]"
      ]
     },
     "execution_count": 14,
     "metadata": {},
     "output_type": "execute_result"
    }
   ],
   "source": [
    "session.query(func.count(Measurement.date)).all()"
   ]
  },
  {
   "cell_type": "code",
   "execution_count": 18,
   "metadata": {},
   "outputs": [
    {
     "name": "stdout",
     "output_type": "stream",
     "text": [
      "Last date is: 2017-08-23\n",
      "Date from one year ago is: 2016-08-23\n"
     ]
    }
   ],
   "source": [
    "# Design a query to retrieve the last 12 months of precipitation data and plot the results\n",
    "\n",
    "# Calculate the date 1 year ago from the last data point in the database\n",
    "lastdate = session.query(Measurement.date).order_by(Measurement.date.desc()).first()\n",
    "print(f\"Last date is: {lastdate[0]}\")\n",
    "\n",
    "lastdate = dt.datetime.strptime(lastdate[0], '%Y-%m-%d')\n",
    "querydate = dt.date(lastdate.year -1, lastdate.month, lastdate.day)\n",
    "print(f\"Date from one year ago is: {querydate}\")"
   ]
  },
  {
   "cell_type": "code",
   "execution_count": 19,
   "metadata": {},
   "outputs": [
    {
     "data": {
      "text/plain": [
       "[('2016-08-23', 0.0),\n",
       " ('2016-08-24', 0.08),\n",
       " ('2016-08-25', 0.08),\n",
       " ('2016-08-26', 0.0),\n",
       " ('2016-08-27', 0.0)]"
      ]
     },
     "execution_count": 19,
     "metadata": {},
     "output_type": "execute_result"
    }
   ],
   "source": [
    "# Perform a query to retrieve the data and precipitation scores\n",
    "meas_cols = (Measurement.date, Measurement.prcp)\n",
    "\n",
    "prcp_data = session.query(*meas_cols).\\\n",
    "    filter(Measurement.date >= querydate).all()\n",
    "prcp_data[:5]"
   ]
  },
  {
   "cell_type": "code",
   "execution_count": 20,
   "metadata": {},
   "outputs": [
    {
     "data": {
      "text/html": [
       "<div>\n",
       "<style scoped>\n",
       "    .dataframe tbody tr th:only-of-type {\n",
       "        vertical-align: middle;\n",
       "    }\n",
       "\n",
       "    .dataframe tbody tr th {\n",
       "        vertical-align: top;\n",
       "    }\n",
       "\n",
       "    .dataframe thead th {\n",
       "        text-align: right;\n",
       "    }\n",
       "</style>\n",
       "<table border=\"1\" class=\"dataframe\">\n",
       "  <thead>\n",
       "    <tr style=\"text-align: right;\">\n",
       "      <th></th>\n",
       "      <th>date</th>\n",
       "      <th>precipitation</th>\n",
       "    </tr>\n",
       "  </thead>\n",
       "  <tbody>\n",
       "    <tr>\n",
       "      <th>0</th>\n",
       "      <td>2016-08-23</td>\n",
       "      <td>0.00</td>\n",
       "    </tr>\n",
       "    <tr>\n",
       "      <th>1</th>\n",
       "      <td>2016-08-24</td>\n",
       "      <td>0.08</td>\n",
       "    </tr>\n",
       "    <tr>\n",
       "      <th>2</th>\n",
       "      <td>2016-08-25</td>\n",
       "      <td>0.08</td>\n",
       "    </tr>\n",
       "    <tr>\n",
       "      <th>3</th>\n",
       "      <td>2016-08-26</td>\n",
       "      <td>0.00</td>\n",
       "    </tr>\n",
       "    <tr>\n",
       "      <th>4</th>\n",
       "      <td>2016-08-27</td>\n",
       "      <td>0.00</td>\n",
       "    </tr>\n",
       "  </tbody>\n",
       "</table>\n",
       "</div>"
      ],
      "text/plain": [
       "         date  precipitation\n",
       "0  2016-08-23           0.00\n",
       "1  2016-08-24           0.08\n",
       "2  2016-08-25           0.08\n",
       "3  2016-08-26           0.00\n",
       "4  2016-08-27           0.00"
      ]
     },
     "execution_count": 20,
     "metadata": {},
     "output_type": "execute_result"
    }
   ],
   "source": [
    "# Save the query results as a Pandas DataFrame and set the index to the date column\n",
    "prcp_df = pd.DataFrame(prcp_data,columns = ['date', 'precipitation'])\n",
    "prcp_df.head()"
   ]
  },
  {
   "cell_type": "code",
   "execution_count": 21,
   "metadata": {},
   "outputs": [
    {
     "data": {
      "text/html": [
       "<div>\n",
       "<style scoped>\n",
       "    .dataframe tbody tr th:only-of-type {\n",
       "        vertical-align: middle;\n",
       "    }\n",
       "\n",
       "    .dataframe tbody tr th {\n",
       "        vertical-align: top;\n",
       "    }\n",
       "\n",
       "    .dataframe thead th {\n",
       "        text-align: right;\n",
       "    }\n",
       "</style>\n",
       "<table border=\"1\" class=\"dataframe\">\n",
       "  <thead>\n",
       "    <tr style=\"text-align: right;\">\n",
       "      <th></th>\n",
       "      <th>precipitation</th>\n",
       "    </tr>\n",
       "    <tr>\n",
       "      <th>date</th>\n",
       "      <th></th>\n",
       "    </tr>\n",
       "  </thead>\n",
       "  <tbody>\n",
       "    <tr>\n",
       "      <th>2016-08-23</th>\n",
       "      <td>0.00</td>\n",
       "    </tr>\n",
       "    <tr>\n",
       "      <th>2016-08-23</th>\n",
       "      <td>NaN</td>\n",
       "    </tr>\n",
       "    <tr>\n",
       "      <th>2016-08-23</th>\n",
       "      <td>1.79</td>\n",
       "    </tr>\n",
       "    <tr>\n",
       "      <th>2016-08-23</th>\n",
       "      <td>0.05</td>\n",
       "    </tr>\n",
       "    <tr>\n",
       "      <th>2016-08-23</th>\n",
       "      <td>0.15</td>\n",
       "    </tr>\n",
       "  </tbody>\n",
       "</table>\n",
       "</div>"
      ],
      "text/plain": [
       "            precipitation\n",
       "date                     \n",
       "2016-08-23           0.00\n",
       "2016-08-23            NaN\n",
       "2016-08-23           1.79\n",
       "2016-08-23           0.05\n",
       "2016-08-23           0.15"
      ]
     },
     "execution_count": 21,
     "metadata": {},
     "output_type": "execute_result"
    }
   ],
   "source": [
    "# Sort the dataframe by date\n",
    "prcp_df.set_index('date',inplace = True)\n",
    "prcp_df = prcp_df.sort_index()\n",
    "prcp_df.head()"
   ]
  },
  {
   "cell_type": "code",
   "execution_count": 23,
   "metadata": {},
   "outputs": [
    {
     "data": {
      "image/png": "[encoded data removed]",
      "text/plain": [
       "<Figure size 720x504 with 1 Axes>"
      ]
     },
     "metadata": {},
     "output_type": "display_data"
    }
   ],
   "source": [
    "xx = prcp_df.index.tolist()\n",
    "yy = prcp_df['precipitation'].tolist()\n",
    "\n",
    "plt.figure(figsize=(10,7))\n",
    "plt.bar(xx,yy,width = 5 ,color='b', alpha=0.5, align=\"center\",label='precipitation')\n",
    "plt.tick_params(\n",
    "    axis='x',          # changes apply to the x-axis\n",
    "    which='both',      # both major and minor ticks are affected\n",
    "    bottom=False,      # ticks along the bottom edge are off\n",
    "    top=False,         # ticks along the top edge are off\n",
    "    labelbottom=True) # labels along the bottom edge are off\n",
    "major_ticks = np.arange(0,400,80)\n",
    "plt.xticks(major_ticks, rotation = 45)\n",
    "\n",
    "\n",
    "plt.title(\"Daily Precipitation Levels Over the Past Year\")\n",
    "plt.xlabel(\"Date\")\n",
    "plt.ylabel(\"Precipitation Levels\")\n",
    "plt.grid(which='major', axis='both', linestyle='-')\n",
    "plt.legend()\n",
    "plt.show()"
   ]
  },
  {
   "cell_type": "code",
   "execution_count": 24,
   "metadata": {},
   "outputs": [
    {
     "data": {
      "text/html": [
       "<div>\n",
       "<style scoped>\n",
       "    .dataframe tbody tr th:only-of-type {\n",
       "        vertical-align: middle;\n",
       "    }\n",
       "\n",
       "    .dataframe tbody tr th {\n",
       "        vertical-align: top;\n",
       "    }\n",
       "\n",
       "    .dataframe thead th {\n",
       "        text-align: right;\n",
       "    }\n",
       "</style>\n",
       "<table border=\"1\" class=\"dataframe\">\n",
       "  <thead>\n",
       "    <tr style=\"text-align: right;\">\n",
       "      <th></th>\n",
       "      <th>precipitation</th>\n",
       "    </tr>\n",
       "  </thead>\n",
       "  <tbody>\n",
       "    <tr>\n",
       "      <th>count</th>\n",
       "      <td>2021.000000</td>\n",
       "    </tr>\n",
       "    <tr>\n",
       "      <th>mean</th>\n",
       "      <td>0.177279</td>\n",
       "    </tr>\n",
       "    <tr>\n",
       "      <th>std</th>\n",
       "      <td>0.461190</td>\n",
       "    </tr>\n",
       "    <tr>\n",
       "      <th>min</th>\n",
       "      <td>0.000000</td>\n",
       "    </tr>\n",
       "    <tr>\n",
       "      <th>25%</th>\n",
       "      <td>0.000000</td>\n",
       "    </tr>\n",
       "    <tr>\n",
       "      <th>50%</th>\n",
       "      <td>0.020000</td>\n",
       "    </tr>\n",
       "    <tr>\n",
       "      <th>75%</th>\n",
       "      <td>0.130000</td>\n",
       "    </tr>\n",
       "    <tr>\n",
       "      <th>max</th>\n",
       "      <td>6.700000</td>\n",
       "    </tr>\n",
       "  </tbody>\n",
       "</table>\n",
       "</div>"
      ],
      "text/plain": [
       "       precipitation\n",
       "count    2021.000000\n",
       "mean        0.177279\n",
       "std         0.461190\n",
       "min         0.000000\n",
       "25%         0.000000\n",
       "50%         0.020000\n",
       "75%         0.130000\n",
       "max         6.700000"
      ]
     },
     "execution_count": 24,
     "metadata": {},
     "output_type": "execute_result"
    }
   ],
   "source": [
    "# Use Pandas to calcualte the summary statistics for the precipitation data\n",
    "prcp_df.describe()"
   ]
  },
  {
   "cell_type": "markdown",
   "metadata": {},
   "source": [
    "## Station Analysis"
   ]
  },
  {
   "cell_type": "code",
   "execution_count": 25,
   "metadata": {},
   "outputs": [
    {
     "name": "stdout",
     "output_type": "stream",
     "text": [
      "Number of Stations = 9\n"
     ]
    }
   ],
   "source": [
    "# Design a query to show how many stations are available in this dataset?\n",
    "station_count = session.query(Station).count()\n",
    "print(f'Number of Stations = {station_count}')"
   ]
  },
  {
   "cell_type": "code",
   "execution_count": 26,
   "metadata": {},
   "outputs": [
    {
     "name": "stdout",
     "output_type": "stream",
     "text": [
      "Most active stations are:\n",
      "[('USC00519281', 'WAIHEE 837.5, HI US', 2772),\n",
      " ('USC00519397', 'WAIKIKI 717.2, HI US', 2724),\n",
      " ('USC00513117', 'KANEOHE 838.1, HI US', 2709),\n",
      " ('USC00519523', 'WAIMANALO EXPERIMENTAL FARM, HI US', 2669),\n",
      " ('USC00516128', 'MANOA LYON ARBO 785.2, HI US', 2612),\n",
      " ('USC00514830', 'KUALOA RANCH HEADQUARTERS 886.9, HI US', 2202),\n",
      " ('USC00511918', 'HONOLULU OBSERVATORY 702.2, HI US', 1979),\n",
      " ('USC00517948', 'PEARL CITY, HI US', 1372),\n",
      " ('USC00518838', 'UPPER WAHIAWA 874.3, HI US', 511)]\n"
     ]
    }
   ],
   "source": [
    "# What are the most active stations? (i.e. what stations have the most rows)?\n",
    "# List the stations and the counts in descending order.\n",
    "most_active = session.query(Measurement.station, Station.name, func.count(Measurement.id)).\\\n",
    "    filter(Measurement.station == Station.station).\\\n",
    "    group_by(Measurement.station).\\\n",
    "    order_by(func.count(Measurement.id).desc()).all()\n",
    "print(\"Most active stations are:\")\n",
    "pprint(most_active)"
   ]
  },
  {
   "cell_type": "code",
   "execution_count": 27,
   "metadata": {},
   "outputs": [
    {
     "name": "stdout",
     "output_type": "stream",
     "text": [
      "Most active station is USC00519281 - WAIHEE 837.5, HI US\n",
      "Lowest Temperature: 54.0F\n",
      "Highest Temperature: 85.0F\n",
      "Average Temperature: 71.664F\n"
     ]
    }
   ],
   "source": [
    "# Using the station id from the previous query, calculate the lowest temperature recorded, \n",
    "# highest temperature recorded, and average temperature of the most active station?\n",
    "sel = [func.min(Measurement.tobs), func.max(Measurement.tobs), func.avg(Measurement.tobs)]\n",
    "\n",
    "station_data = session.query(*sel).filter(Measurement.station == most_active[0][0]).all()\n",
    "station_data\n",
    "\n",
    "print(f\"Most active station is {most_active[0][0]} - {most_active[0][1]}\")\n",
    "print(f\"Lowest Temperature: {station_data[0][0]}F\")\n",
    "print(f\"Highest Temperature: {station_data[0][1]}F\")\n",
    "\n",
    "rounded = round(station_data[0][2], 3)\n",
    "print(f\"Average Temperature: {rounded}F\")\n"
   ]
  },
  {
   "cell_type": "code",
   "execution_count": 28,
   "metadata": {},
   "outputs": [
    {
     "data": {
      "image/png": "[encoded data removed]",
      "text/plain": [
       "<Figure size 648x576 with 1 Axes>"
      ]
     },
     "metadata": {},
     "output_type": "display_data"
    }
   ],
   "source": [
    "# Query the last 12 months of temperature data for the most active station and plot the results\n",
    "temp_results = (\n",
    "    session.query(Measurement.date, Measurement.tobs)\n",
    "    .filter(Measurement.date > querydate)\n",
    "    .filter(Measurement.station == most_active[0][0])\n",
    "    .order_by(Measurement.date)\n",
    "    .all()\n",
    ")\n",
    "\n",
    "temp_df = pd.DataFrame(temp_results)\n",
    "temp_df = temp_df.set_index(\"date\").sort_index(ascending=True)\n",
    "\n",
    "temp_df.plot(kind = 'hist', color = 'gold', bins = 12, alpha=0.85, figsize=(9,8))\n",
    "plt.title(f\"Temperature from Past Year \\nmeasured at {most_active[0][1]}\")\n",
    "plt.xlabel(\"Temperature (F)\")\n",
    "plt.ylabel(\"Frequency\")\n",
    "plt.show()"
   ]
  },
  {
   "cell_type": "markdown",
   "metadata": {},
   "source": [
    "## Bonus Challenge Assignment"
   ]
  },
  {
   "cell_type": "markdown",
   "metadata": {},
   "source": [
    "### Temperature Analysis I\n",
    "\n",
    " - Hawaii is reputed to enjoy mild weather all year.  Is there a meaningful difference between temperature in June and December\n",
    " \n",
    " - Identify average temperature in June at all stations across the available years in the dataset. Do the same for the December temperature.\n",
    " \n",
    " - Use t-test to determine whether the difference in means is statistically significant.\n",
    "\n"
   ]
  },
  {
   "cell_type": "code",
   "execution_count": 29,
   "metadata": {},
   "outputs": [
    {
     "data": {
      "text/html": [
       "<div>\n",
       "<style scoped>\n",
       "    .dataframe tbody tr th:only-of-type {\n",
       "        vertical-align: middle;\n",
       "    }\n",
       "\n",
       "    .dataframe tbody tr th {\n",
       "        vertical-align: top;\n",
       "    }\n",
       "\n",
       "    .dataframe thead th {\n",
       "        text-align: right;\n",
       "    }\n",
       "</style>\n",
       "<table border=\"1\" class=\"dataframe\">\n",
       "  <thead>\n",
       "    <tr style=\"text-align: right;\">\n",
       "      <th></th>\n",
       "      <th>Date</th>\n",
       "      <th>Temperature</th>\n",
       "      <th>Month</th>\n",
       "    </tr>\n",
       "  </thead>\n",
       "  <tbody>\n",
       "    <tr>\n",
       "      <th>0</th>\n",
       "      <td>2010-06-01</td>\n",
       "      <td>78.0</td>\n",
       "      <td>June</td>\n",
       "    </tr>\n",
       "    <tr>\n",
       "      <th>1</th>\n",
       "      <td>2010-06-02</td>\n",
       "      <td>76.0</td>\n",
       "      <td>June</td>\n",
       "    </tr>\n",
       "    <tr>\n",
       "      <th>2</th>\n",
       "      <td>2010-06-03</td>\n",
       "      <td>78.0</td>\n",
       "      <td>June</td>\n",
       "    </tr>\n",
       "    <tr>\n",
       "      <th>3</th>\n",
       "      <td>2010-06-04</td>\n",
       "      <td>76.0</td>\n",
       "      <td>June</td>\n",
       "    </tr>\n",
       "    <tr>\n",
       "      <th>4</th>\n",
       "      <td>2010-06-05</td>\n",
       "      <td>77.0</td>\n",
       "      <td>June</td>\n",
       "    </tr>\n",
       "    <tr>\n",
       "      <th>...</th>\n",
       "      <td>...</td>\n",
       "      <td>...</td>\n",
       "      <td>...</td>\n",
       "    </tr>\n",
       "    <tr>\n",
       "      <th>3212</th>\n",
       "      <td>2016-12-27</td>\n",
       "      <td>71.0</td>\n",
       "      <td>December</td>\n",
       "    </tr>\n",
       "    <tr>\n",
       "      <th>3213</th>\n",
       "      <td>2016-12-28</td>\n",
       "      <td>71.0</td>\n",
       "      <td>December</td>\n",
       "    </tr>\n",
       "    <tr>\n",
       "      <th>3214</th>\n",
       "      <td>2016-12-29</td>\n",
       "      <td>69.0</td>\n",
       "      <td>December</td>\n",
       "    </tr>\n",
       "    <tr>\n",
       "      <th>3215</th>\n",
       "      <td>2016-12-30</td>\n",
       "      <td>65.0</td>\n",
       "      <td>December</td>\n",
       "    </tr>\n",
       "    <tr>\n",
       "      <th>3216</th>\n",
       "      <td>2016-12-31</td>\n",
       "      <td>65.0</td>\n",
       "      <td>December</td>\n",
       "    </tr>\n",
       "  </tbody>\n",
       "</table>\n",
       "<p>3217 rows × 3 columns</p>\n",
       "</div>"
      ],
      "text/plain": [
       "            Date  Temperature     Month\n",
       "0     2010-06-01         78.0      June\n",
       "1     2010-06-02         76.0      June\n",
       "2     2010-06-03         78.0      June\n",
       "3     2010-06-04         76.0      June\n",
       "4     2010-06-05         77.0      June\n",
       "...          ...          ...       ...\n",
       "3212  2016-12-27         71.0  December\n",
       "3213  2016-12-28         71.0  December\n",
       "3214  2016-12-29         69.0  December\n",
       "3215  2016-12-30         65.0  December\n",
       "3216  2016-12-31         65.0  December\n",
       "\n",
       "[3217 rows x 3 columns]"
      ]
     },
     "execution_count": 29,
     "metadata": {},
     "output_type": "execute_result"
    }
   ],
   "source": [
    "#get raw data from June and December\n",
    "june_data = session.query(Measurement.date, Measurement.tobs).\\\n",
    "    filter(func.strftime('%m', Measurement.date) == '06').all()\n",
    "dec_data = session.query(Measurement.date, Measurement.tobs).\\\n",
    "    filter(func.strftime('%m', Measurement.date) == '12').all()\n",
    "\n",
    "#convert to DataFrames and concatenate\n",
    "june_df = pd.DataFrame(june_data, columns=[\"Date\", 'Temperature'])\n",
    "dec_df = pd.DataFrame(dec_data, columns=['Date', 'Temperature'])\n",
    "june_df['Month'] = 'June'\n",
    "dec_df['Month'] = 'December'\n",
    "temp_df = pd.concat([june_df, dec_df], ignore_index=True)\n",
    "temp_df"
   ]
  },
  {
   "cell_type": "code",
   "execution_count": 30,
   "metadata": {},
   "outputs": [
    {
     "data": {
      "text/html": [
       "<div>\n",
       "<style scoped>\n",
       "    .dataframe tbody tr th:only-of-type {\n",
       "        vertical-align: middle;\n",
       "    }\n",
       "\n",
       "    .dataframe tbody tr th {\n",
       "        vertical-align: top;\n",
       "    }\n",
       "\n",
       "    .dataframe thead th {\n",
       "        text-align: right;\n",
       "    }\n",
       "</style>\n",
       "<table border=\"1\" class=\"dataframe\">\n",
       "  <thead>\n",
       "    <tr style=\"text-align: right;\">\n",
       "      <th></th>\n",
       "      <th>Temperature</th>\n",
       "    </tr>\n",
       "    <tr>\n",
       "      <th>Month</th>\n",
       "      <th></th>\n",
       "    </tr>\n",
       "  </thead>\n",
       "  <tbody>\n",
       "    <tr>\n",
       "      <th>December</th>\n",
       "      <td>71.041529</td>\n",
       "    </tr>\n",
       "    <tr>\n",
       "      <th>June</th>\n",
       "      <td>74.944118</td>\n",
       "    </tr>\n",
       "  </tbody>\n",
       "</table>\n",
       "</div>"
      ],
      "text/plain": [
       "          Temperature\n",
       "Month                \n",
       "December    71.041529\n",
       "June        74.944118"
      ]
     },
     "execution_count": 30,
     "metadata": {},
     "output_type": "execute_result"
    }
   ],
   "source": [
    "# calc avg temp for both months\n",
    "avg_temp = temp_df.groupby(\"Month\").mean()\n",
    "avg_temp"
   ]
  },
  {
   "cell_type": "code",
   "execution_count": 31,
   "metadata": {},
   "outputs": [
    {
     "data": {
      "text/plain": [
       "Ttest_indResult(statistic=31.60372399000329, pvalue=3.9025129038616655e-191)"
      ]
     },
     "execution_count": 31,
     "metadata": {},
     "output_type": "execute_result"
    },
    {
     "data": {
      "image/png": "[encoded data removed]",
      "text/plain": [
       "<Figure size 432x288 with 1 Axes>"
      ]
     },
     "metadata": {},
     "output_type": "display_data"
    }
   ],
   "source": [
    "#Using thje unpaired t-test to compare means from separate months that are not dependant on each other\n",
    "\n",
    "#null hypothesis - differenece between the mean temperatures is equal to 0\n",
    "#H1 - the difference between the mean temperatures of June and December is not equal to 0\n",
    "\n",
    "box_data = [june_df[\"Temperature\"], dec_df[\"Temperature\"]]\n",
    "plt.boxplot(box_data, labels=['June', 'December'])\n",
    "stats.ttest_ind(june_df['Temperature'], dec_df['Temperature'])"
   ]
  },
  {
   "cell_type": "markdown",
   "metadata": {},
   "source": [
    "The p-value is less 0.05, so we can reject the null hypothesis.  We can conclude that the difference in mean temperature in Hawaii in the months of June and December is statistically significant."
   ]
  },
  {
   "cell_type": "markdown",
   "metadata": {},
   "source": [
    "## Temperature Analysis II"
   ]
  },
  {
   "cell_type": "code",
   "execution_count": 60,
   "metadata": {},
   "outputs": [
    {
     "name": "stdout",
     "output_type": "stream",
     "text": [
      "[(62.0, 69.57142857142857, 74.0)]\n"
     ]
    }
   ],
   "source": [
    "# This function called `calc_temps` will accept start date and end date in the format '%Y-%m-%d' \n",
    "# and return the minimum, average, and maximum temperatures for that range of dates\n",
    "def calc_temps(start_date, end_date):\n",
    "    \"\"\"TMIN, TAVG, and TMAX for a list of dates.\n",
    "    \n",
    "    Args:\n",
    "        start_date (string): A date string in the format %Y-%m-%d\n",
    "        end_date (string): A date string in the format %Y-%m-%d\n",
    "        \n",
    "    Returns:\n",
    "        TMIN, TAVE, and TMAX\n",
    "    \"\"\"\n",
    "    \n",
    "    return session.query(func.min(Measurement.tobs), func.avg(Measurement.tobs), func.max(Measurement.tobs)).\\\n",
    "        filter(Measurement.date >= start_date).filter(Measurement.date <= end_date).all()\n",
    "\n",
    "# function usage example - given in starter\n",
    "print(calc_temps('2012-02-28', '2012-03-05'))"
   ]
  },
  {
   "cell_type": "code",
   "execution_count": 101,
   "metadata": {},
   "outputs": [
    {
     "name": "stdout",
     "output_type": "stream",
     "text": [
      "Weather Results for 2017-05-01 to 2017-05-15:\n",
      "'Minimum Temperature: 65.0F'\n",
      "'Average Temperature: 75.238F'\n",
      "'Maximum Temperature: 80.0F'\n"
     ]
    }
   ],
   "source": [
    "# function ran with my chosen dates:\n",
    "start_date = '2017-05-01'\n",
    "end_date = '2017-05-15'\n",
    "trip_dates = '2017-05-01 to 2017-05-15'\n",
    "trip_temps = calc_temps('2017-05-01', '2017-05-15')\n",
    "temp_min, temp_avg, temp_max = trip_temps[0]\n",
    "print(f'Weather Results for {trip_dates}:')\n",
    "pprint(f'Minimum Temperature: {temp_min}F')\n",
    "round_temp = round(temp_avg, 3)\n",
    "pprint(f'Average Temperature: {round_temp}F')\n",
    "pprint(f'Maximum Temperature: {temp_max}F')"
   ]
  },
  {
   "cell_type": "code",
   "execution_count": 100,
   "metadata": {},
   "outputs": [
    {
     "data": {
      "image/png": "[encoded data removed]",
      "text/plain": [
       "<Figure size 288x576 with 1 Axes>"
      ]
     },
     "metadata": {},
     "output_type": "display_data"
    }
   ],
   "source": [
    "xpos=[0]\n",
    "ypos = temp_avg\n",
    "error = temp_max - temp_min\n",
    "\n",
    "plt.figure(figsize=(4,8))\n",
    "plt.bar(xpos, ypos, color='red', yerr=error)\n",
    "plt.xlim(-0.75, 0.75)\n",
    "plt.title(\"Average Trip Temperature\", y=1.05)\n",
    "plt.xlabel('5/1/17 - 5/15/17')\n",
    "plt.ylabel('Temperature (F)')\n",
    "plt.ylim(0, 100)\n",
    "plt.tick_params(axis='x', which='both', bottom=False, top=False, labelbottom=False)\n",
    "plt.grid(which='major', axis='x', linestyle='')\n",
    "plt.grid(which='major', axis='y', linestyle='-')\n",
    "plt.show()"
   ]
  },
  {
   "cell_type": "markdown",
   "metadata": {},
   "source": [
    "## Daily Rainfall Average"
   ]
  },
  {
   "cell_type": "code",
   "execution_count": 99,
   "metadata": {},
   "outputs": [
    {
     "data": {
      "text/html": [
       "<style  type=\"text/css\" >\n",
       "</style><table id=\"T_1af918a2_2bae_11eb_808d_405bd8cb6548\" ><caption>Station Data During Trip Dates: 2017-05-01 to 2017-05-15</caption><thead>    <tr>        <th class=\"blank level0\" ></th>        <th class=\"col_heading level0 col0\" >Station</th>        <th class=\"col_heading level0 col1\" >Name</th>        <th class=\"col_heading level0 col2\" >Latitude</th>        <th class=\"col_heading level0 col3\" >Longitude</th>        <th class=\"col_heading level0 col4\" >Elevation</th>        <th class=\"col_heading level0 col5\" >PrcpSum</th>    </tr></thead><tbody>\n",
       "                <tr>\n",
       "                        <th id=\"T_1af918a2_2bae_11eb_808d_405bd8cb6548level0_row0\" class=\"row_heading level0 row0\" >0</th>\n",
       "                        <td id=\"T_1af918a2_2bae_11eb_808d_405bd8cb6548row0_col0\" class=\"data row0 col0\" >USC00516128</td>\n",
       "                        <td id=\"T_1af918a2_2bae_11eb_808d_405bd8cb6548row0_col1\" class=\"data row0 col1\" >MANOA LYON ARBO 785.2, HI US</td>\n",
       "                        <td id=\"T_1af918a2_2bae_11eb_808d_405bd8cb6548row0_col2\" class=\"data row0 col2\" >21.333100</td>\n",
       "                        <td id=\"T_1af918a2_2bae_11eb_808d_405bd8cb6548row0_col3\" class=\"data row0 col3\" >-157.802500</td>\n",
       "                        <td id=\"T_1af918a2_2bae_11eb_808d_405bd8cb6548row0_col4\" class=\"data row0 col4\" >152.400000</td>\n",
       "                        <td id=\"T_1af918a2_2bae_11eb_808d_405bd8cb6548row0_col5\" class=\"data row0 col5\" >4.510000</td>\n",
       "            </tr>\n",
       "            <tr>\n",
       "                        <th id=\"T_1af918a2_2bae_11eb_808d_405bd8cb6548level0_row1\" class=\"row_heading level0 row1\" >1</th>\n",
       "                        <td id=\"T_1af918a2_2bae_11eb_808d_405bd8cb6548row1_col0\" class=\"data row1 col0\" >USC00519281</td>\n",
       "                        <td id=\"T_1af918a2_2bae_11eb_808d_405bd8cb6548row1_col1\" class=\"data row1 col1\" >WAIHEE 837.5, HI US</td>\n",
       "                        <td id=\"T_1af918a2_2bae_11eb_808d_405bd8cb6548row1_col2\" class=\"data row1 col2\" >21.451670</td>\n",
       "                        <td id=\"T_1af918a2_2bae_11eb_808d_405bd8cb6548row1_col3\" class=\"data row1 col3\" >-157.848890</td>\n",
       "                        <td id=\"T_1af918a2_2bae_11eb_808d_405bd8cb6548row1_col4\" class=\"data row1 col4\" >32.900000</td>\n",
       "                        <td id=\"T_1af918a2_2bae_11eb_808d_405bd8cb6548row1_col5\" class=\"data row1 col5\" >3.200000</td>\n",
       "            </tr>\n",
       "            <tr>\n",
       "                        <th id=\"T_1af918a2_2bae_11eb_808d_405bd8cb6548level0_row2\" class=\"row_heading level0 row2\" >2</th>\n",
       "                        <td id=\"T_1af918a2_2bae_11eb_808d_405bd8cb6548row2_col0\" class=\"data row2 col0\" >USC00513117</td>\n",
       "                        <td id=\"T_1af918a2_2bae_11eb_808d_405bd8cb6548row2_col1\" class=\"data row2 col1\" >KANEOHE 838.1, HI US</td>\n",
       "                        <td id=\"T_1af918a2_2bae_11eb_808d_405bd8cb6548row2_col2\" class=\"data row2 col2\" >21.423400</td>\n",
       "                        <td id=\"T_1af918a2_2bae_11eb_808d_405bd8cb6548row2_col3\" class=\"data row2 col3\" >-157.801500</td>\n",
       "                        <td id=\"T_1af918a2_2bae_11eb_808d_405bd8cb6548row2_col4\" class=\"data row2 col4\" >14.600000</td>\n",
       "                        <td id=\"T_1af918a2_2bae_11eb_808d_405bd8cb6548row2_col5\" class=\"data row2 col5\" >2.290000</td>\n",
       "            </tr>\n",
       "            <tr>\n",
       "                        <th id=\"T_1af918a2_2bae_11eb_808d_405bd8cb6548level0_row3\" class=\"row_heading level0 row3\" >3</th>\n",
       "                        <td id=\"T_1af918a2_2bae_11eb_808d_405bd8cb6548row3_col0\" class=\"data row3 col0\" >USC00514830</td>\n",
       "                        <td id=\"T_1af918a2_2bae_11eb_808d_405bd8cb6548row3_col1\" class=\"data row3 col1\" >KUALOA RANCH HEADQUARTERS 886.9, HI US</td>\n",
       "                        <td id=\"T_1af918a2_2bae_11eb_808d_405bd8cb6548row3_col2\" class=\"data row3 col2\" >21.521300</td>\n",
       "                        <td id=\"T_1af918a2_2bae_11eb_808d_405bd8cb6548row3_col3\" class=\"data row3 col3\" >-157.837400</td>\n",
       "                        <td id=\"T_1af918a2_2bae_11eb_808d_405bd8cb6548row3_col4\" class=\"data row3 col4\" >7.000000</td>\n",
       "                        <td id=\"T_1af918a2_2bae_11eb_808d_405bd8cb6548row3_col5\" class=\"data row3 col5\" >1.940000</td>\n",
       "            </tr>\n",
       "            <tr>\n",
       "                        <th id=\"T_1af918a2_2bae_11eb_808d_405bd8cb6548level0_row4\" class=\"row_heading level0 row4\" >4</th>\n",
       "                        <td id=\"T_1af918a2_2bae_11eb_808d_405bd8cb6548row4_col0\" class=\"data row4 col0\" >USC00519523</td>\n",
       "                        <td id=\"T_1af918a2_2bae_11eb_808d_405bd8cb6548row4_col1\" class=\"data row4 col1\" >WAIMANALO EXPERIMENTAL FARM, HI US</td>\n",
       "                        <td id=\"T_1af918a2_2bae_11eb_808d_405bd8cb6548row4_col2\" class=\"data row4 col2\" >21.335560</td>\n",
       "                        <td id=\"T_1af918a2_2bae_11eb_808d_405bd8cb6548row4_col3\" class=\"data row4 col3\" >-157.711390</td>\n",
       "                        <td id=\"T_1af918a2_2bae_11eb_808d_405bd8cb6548row4_col4\" class=\"data row4 col4\" >19.500000</td>\n",
       "                        <td id=\"T_1af918a2_2bae_11eb_808d_405bd8cb6548row4_col5\" class=\"data row4 col5\" >0.870000</td>\n",
       "            </tr>\n",
       "            <tr>\n",
       "                        <th id=\"T_1af918a2_2bae_11eb_808d_405bd8cb6548level0_row5\" class=\"row_heading level0 row5\" >5</th>\n",
       "                        <td id=\"T_1af918a2_2bae_11eb_808d_405bd8cb6548row5_col0\" class=\"data row5 col0\" >USC00519397</td>\n",
       "                        <td id=\"T_1af918a2_2bae_11eb_808d_405bd8cb6548row5_col1\" class=\"data row5 col1\" >WAIKIKI 717.2, HI US</td>\n",
       "                        <td id=\"T_1af918a2_2bae_11eb_808d_405bd8cb6548row5_col2\" class=\"data row5 col2\" >21.271600</td>\n",
       "                        <td id=\"T_1af918a2_2bae_11eb_808d_405bd8cb6548row5_col3\" class=\"data row5 col3\" >-157.816800</td>\n",
       "                        <td id=\"T_1af918a2_2bae_11eb_808d_405bd8cb6548row5_col4\" class=\"data row5 col4\" >3.000000</td>\n",
       "                        <td id=\"T_1af918a2_2bae_11eb_808d_405bd8cb6548row5_col5\" class=\"data row5 col5\" >0.320000</td>\n",
       "            </tr>\n",
       "    </tbody></table>"
      ],
      "text/plain": [
       "<pandas.io.formats.style.Styler at 0x15c73be0470>"
      ]
     },
     "execution_count": 99,
     "metadata": {},
     "output_type": "execute_result"
    }
   ],
   "source": [
    "# Calculate the total amount of rainfall per weather station for your trip dates \n",
    "    #using the previous year's matching dates.\n",
    "# Sort this in descending order by precipitation amount and list the station, name, \n",
    "    #latitude, longitude, and elevation\n",
    "start_date = '2017-05-01'\n",
    "end_date = '2017-05-15'\n",
    "\n",
    "sel = [Station.station, Station.name, Station.latitude, Station.longitude, Station.elevation, \n",
    "          func.sum(Measurement.prcp)]\n",
    "queryres = session.query(*sel).\\\n",
    "    filter(Station.station == Measurement.station).\\\n",
    "    group_by(Measurement.station).\\\n",
    "    filter(Measurement.date >= start_date).\\\n",
    "    filter(Measurement.date <= end_date).\\\n",
    "    order_by(func.sum(Measurement.prcp).desc()).all()\n",
    "\n",
    "stations = pd.DataFrame(queryres, columns=['Station', 'Name', 'Latitude', 'Longitude', \n",
    "                                           'Elevation', 'PrcpSum'])\n",
    "stations = stations.style.set_caption(\"Station Data During Trip Dates: 2017-05-01 to 2017-05-15\")\n",
    "stations"
   ]
  },
  {
   "cell_type": "code",
   "execution_count": 90,
   "metadata": {},
   "outputs": [
    {
     "data": {
      "text/plain": [
       "[(62.0, 69.15384615384616, 77.0)]"
      ]
     },
     "execution_count": 90,
     "metadata": {},
     "output_type": "execute_result"
    }
   ],
   "source": [
    "# Create a query that will calculate the daily normals \n",
    "# (i.e. the averages for tmin, tmax, and tavg for all historic data matching a specific month and day)\n",
    "\n",
    "def daily_normals(date):\n",
    "    \"\"\"Daily Normals.\n",
    "    \n",
    "    Args:\n",
    "        date (str): A date string in the format '%m-%d'\n",
    "        \n",
    "    Returns:\n",
    "        A list of tuples containing the daily normals, tmin, tavg, and tmax\n",
    "    \n",
    "    \"\"\"\n",
    "    \n",
    "    sel = [func.min(Measurement.tobs), func.avg(Measurement.tobs), func.max(Measurement.tobs)]\n",
    "    return session.query(*sel).filter(func.strftime(\"%m-%d\", Measurement.date) == date).all()\n",
    "    \n",
    "daily_normals(\"01-01\")"
   ]
  },
  {
   "cell_type": "code",
   "execution_count": 111,
   "metadata": {},
   "outputs": [
    {
     "data": {
      "text/plain": [
       "[[65.0, 72.75925925925925, 79.0],\n",
       " [65.0, 73.05084745762711, 79.0],\n",
       " [67.0, 73.41071428571429, 84.0],\n",
       " [65.0, 73.59649122807018, 78.0],\n",
       " [67.0, 73.39655172413794, 79.0],\n",
       " [66.0, 73.14035087719299, 80.0],\n",
       " [64.0, 71.78846153846153, 79.0],\n",
       " [65.0, 72.18867924528301, 80.0],\n",
       " [67.0, 72.9322033898305, 79.0],\n",
       " [64.0, 73.3157894736842, 78.0],\n",
       " [65.0, 73.61111111111111, 79.0],\n",
       " [65.0, 73.13793103448276, 79.0],\n",
       " [67.0, 73.14285714285714, 79.0],\n",
       " [63.0, 73.89285714285714, 80.0],\n",
       " [63.0, 73.69090909090909, 79.0]]"
      ]
     },
     "execution_count": 111,
     "metadata": {},
     "output_type": "execute_result"
    }
   ],
   "source": [
    "# calculate the daily normals for your trip\n",
    "# push each tuple of calculations into a list called `normals`\n",
    "\n",
    "# Set the start(trip_sd) and end date(trip_ed) of the trip\n",
    "trip_sd = '2017-05-01'\n",
    "trip_ed = '2017-05-15'\n",
    "\n",
    "# Use the start and end date to create a range of dates\n",
    "# Stip off the year and save a list of %m-%d strings\n",
    "# Loop through the list of %m-%d strings and calculate the normals for each date\n",
    "\n",
    "##sd = start date\n",
    "## ed = end date\n",
    "sd = dt.datetime.strptime(trip_sd, '%Y-%m-%d')\n",
    "ed = dt.datetime.strptime(trip_ed, '%Y-%m-%d')\n",
    "\n",
    "trip_dates = []\n",
    "normals = []\n",
    "while (sd <= ed):\n",
    "    trip_dates.append(dt.datetime.strftime(sd, '%Y-%m-%d'))\n",
    "    datestr = dt.datetime.strftime(sd, '%m-%d')\n",
    "    normals.append(list(np.ravel(daily_normals(datestr))))\n",
    "    sd = sd + dt.timedelta(days = 1)\n",
    "    \n",
    "normals"
   ]
  },
  {
   "cell_type": "code",
   "execution_count": 112,
   "metadata": {},
   "outputs": [
    {
     "data": {
      "text/html": [
       "<div>\n",
       "<style scoped>\n",
       "    .dataframe tbody tr th:only-of-type {\n",
       "        vertical-align: middle;\n",
       "    }\n",
       "\n",
       "    .dataframe tbody tr th {\n",
       "        vertical-align: top;\n",
       "    }\n",
       "\n",
       "    .dataframe thead th {\n",
       "        text-align: right;\n",
       "    }\n",
       "</style>\n",
       "<table border=\"1\" class=\"dataframe\">\n",
       "  <thead>\n",
       "    <tr style=\"text-align: right;\">\n",
       "      <th></th>\n",
       "      <th>tmin</th>\n",
       "      <th>tavg</th>\n",
       "      <th>tmax</th>\n",
       "    </tr>\n",
       "    <tr>\n",
       "      <th>Date</th>\n",
       "      <th></th>\n",
       "      <th></th>\n",
       "      <th></th>\n",
       "    </tr>\n",
       "  </thead>\n",
       "  <tbody>\n",
       "    <tr>\n",
       "      <th>2017-05-01</th>\n",
       "      <td>65.0</td>\n",
       "      <td>72.759259</td>\n",
       "      <td>79.0</td>\n",
       "    </tr>\n",
       "    <tr>\n",
       "      <th>2017-05-02</th>\n",
       "      <td>65.0</td>\n",
       "      <td>73.050847</td>\n",
       "      <td>79.0</td>\n",
       "    </tr>\n",
       "    <tr>\n",
       "      <th>2017-05-03</th>\n",
       "      <td>67.0</td>\n",
       "      <td>73.410714</td>\n",
       "      <td>84.0</td>\n",
       "    </tr>\n",
       "    <tr>\n",
       "      <th>2017-05-04</th>\n",
       "      <td>65.0</td>\n",
       "      <td>73.596491</td>\n",
       "      <td>78.0</td>\n",
       "    </tr>\n",
       "    <tr>\n",
       "      <th>2017-05-05</th>\n",
       "      <td>67.0</td>\n",
       "      <td>73.396552</td>\n",
       "      <td>79.0</td>\n",
       "    </tr>\n",
       "    <tr>\n",
       "      <th>2017-05-06</th>\n",
       "      <td>66.0</td>\n",
       "      <td>73.140351</td>\n",
       "      <td>80.0</td>\n",
       "    </tr>\n",
       "    <tr>\n",
       "      <th>2017-05-07</th>\n",
       "      <td>64.0</td>\n",
       "      <td>71.788462</td>\n",
       "      <td>79.0</td>\n",
       "    </tr>\n",
       "    <tr>\n",
       "      <th>2017-05-08</th>\n",
       "      <td>65.0</td>\n",
       "      <td>72.188679</td>\n",
       "      <td>80.0</td>\n",
       "    </tr>\n",
       "    <tr>\n",
       "      <th>2017-05-09</th>\n",
       "      <td>67.0</td>\n",
       "      <td>72.932203</td>\n",
       "      <td>79.0</td>\n",
       "    </tr>\n",
       "    <tr>\n",
       "      <th>2017-05-10</th>\n",
       "      <td>64.0</td>\n",
       "      <td>73.315789</td>\n",
       "      <td>78.0</td>\n",
       "    </tr>\n",
       "    <tr>\n",
       "      <th>2017-05-11</th>\n",
       "      <td>65.0</td>\n",
       "      <td>73.611111</td>\n",
       "      <td>79.0</td>\n",
       "    </tr>\n",
       "    <tr>\n",
       "      <th>2017-05-12</th>\n",
       "      <td>65.0</td>\n",
       "      <td>73.137931</td>\n",
       "      <td>79.0</td>\n",
       "    </tr>\n",
       "    <tr>\n",
       "      <th>2017-05-13</th>\n",
       "      <td>67.0</td>\n",
       "      <td>73.142857</td>\n",
       "      <td>79.0</td>\n",
       "    </tr>\n",
       "    <tr>\n",
       "      <th>2017-05-14</th>\n",
       "      <td>63.0</td>\n",
       "      <td>73.892857</td>\n",
       "      <td>80.0</td>\n",
       "    </tr>\n",
       "    <tr>\n",
       "      <th>2017-05-15</th>\n",
       "      <td>63.0</td>\n",
       "      <td>73.690909</td>\n",
       "      <td>79.0</td>\n",
       "    </tr>\n",
       "  </tbody>\n",
       "</table>\n",
       "</div>"
      ],
      "text/plain": [
       "            tmin       tavg  tmax\n",
       "Date                             \n",
       "2017-05-01  65.0  72.759259  79.0\n",
       "2017-05-02  65.0  73.050847  79.0\n",
       "2017-05-03  67.0  73.410714  84.0\n",
       "2017-05-04  65.0  73.596491  78.0\n",
       "2017-05-05  67.0  73.396552  79.0\n",
       "2017-05-06  66.0  73.140351  80.0\n",
       "2017-05-07  64.0  71.788462  79.0\n",
       "2017-05-08  65.0  72.188679  80.0\n",
       "2017-05-09  67.0  72.932203  79.0\n",
       "2017-05-10  64.0  73.315789  78.0\n",
       "2017-05-11  65.0  73.611111  79.0\n",
       "2017-05-12  65.0  73.137931  79.0\n",
       "2017-05-13  67.0  73.142857  79.0\n",
       "2017-05-14  63.0  73.892857  80.0\n",
       "2017-05-15  63.0  73.690909  79.0"
      ]
     },
     "execution_count": 112,
     "metadata": {},
     "output_type": "execute_result"
    }
   ],
   "source": [
    "# Load the previous query results into a Pandas DataFrame and add the `trip_dates` range as the `date` index\n",
    "trip_history = pd.DataFrame(normals, columns=['tmin', 'tavg', 'tmax'])\n",
    "trip_history['Date'] = trip_dates\n",
    "trip_history = trip_history.set_index(\"Date\")\n",
    "trip_history"
   ]
  },
  {
   "cell_type": "code",
   "execution_count": 118,
   "metadata": {},
   "outputs": [
    {
     "data": {
      "text/plain": [
       "<matplotlib.legend.Legend at 0x191ba673048>"
      ]
     },
     "execution_count": 118,
     "metadata": {},
     "output_type": "execute_result"
    },
    {
     "data": {
      "image/png": "[encoded data removed]",
      "text/plain": [
       "<Figure size 648x576 with 1 Axes>"
      ]
     },
     "metadata": {},
     "output_type": "display_data"
    }
   ],
   "source": [
    "# Plot the daily normals as an area plot with `stacked=False`\n",
    "trip_history.plot(kind='area', stacked=False, rot=45, alpha=.2, figsize=(9,8))\n",
    "plt.xticks(rotation=45)\n",
    "plt.title(f\"Temperature Recorded for Trip Dates\\n {trip_sd} to {trip_ed} \")\n",
    "plt.xlabel(\"\")\n",
    "plt.ylabel(\"Temperature (F)\")\n",
    "plt.legend(bbox_to_anchor=(1,1))"
   ]
  }
 ],
 "metadata": {
  "kernel_info": {
   "name": "python3"
  },
  "kernelspec": {
   "display_name": "Python 3",
   "language": "python",
   "name": "python3"
  },
  "language_info": {
   "codemirror_mode": {
    "name": "ipython",
    "version": 3
   },
   "file_extension": ".py",
   "mimetype": "text/x-python",
   "name": "python",
   "nbconvert_exporter": "python",
   "pygments_lexer": "ipython3",
   "version": "3.6.10"
  },
  "nteract": {
   "version": "0.12.3"
  },
  "varInspector": {
   "cols": {
    "lenName": 16,
    "lenType": 16,
    "lenVar": 40
   },
   "kernels_config": {
    "python": {
     "delete_cmd_postfix": "",
     "delete_cmd_prefix": "del ",
     "library": "var_list.py",
     "varRefreshCmd": "print(var_dic_list())"
    },
    "r": {
     "delete_cmd_postfix": ") ",
     "delete_cmd_prefix": "rm(",
     "library": "var_list.r",
     "varRefreshCmd": "cat(var_dic_list()) "
    }
   },
   "types_to_exclude": [
    "module",
    "function",
    "builtin_function_or_method",
    "instance",
    "_Feature"
   ],
   "window_display": false
  }
 },
 "nbformat": 4,
 "nbformat_minor": 2
}
